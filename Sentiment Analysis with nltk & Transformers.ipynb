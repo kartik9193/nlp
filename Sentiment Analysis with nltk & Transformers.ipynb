{
 "cells": [
  {
   "cell_type": "code",
   "execution_count": 2,
   "metadata": {},
   "outputs": [
    {
     "name": "stderr",
     "output_type": "stream",
     "text": [
      "[nltk_data] Downloading package punkt to\n",
      "[nltk_data]     /Users/kartiknerwal/nltk_data...\n",
      "[nltk_data]   Package punkt is already up-to-date!\n",
      "[nltk_data] Downloading package averaged_perceptron_tagger to\n",
      "[nltk_data]     /Users/kartiknerwal/nltk_data...\n",
      "[nltk_data]   Package averaged_perceptron_tagger is already up-to-\n",
      "[nltk_data]       date!\n",
      "[nltk_data] Downloading package maxent_ne_chunker to\n",
      "[nltk_data]     /Users/kartiknerwal/nltk_data...\n",
      "[nltk_data]   Package maxent_ne_chunker is already up-to-date!\n",
      "[nltk_data] Downloading package words to\n",
      "[nltk_data]     /Users/kartiknerwal/nltk_data...\n",
      "[nltk_data]   Package words is already up-to-date!\n",
      "[nltk_data] Downloading package vader_lexicon to\n",
      "[nltk_data]     /Users/kartiknerwal/nltk_data...\n",
      "[nltk_data]   Package vader_lexicon is already up-to-date!\n"
     ]
    },
    {
     "data": {
      "text/plain": [
       "True"
      ]
     },
     "execution_count": 2,
     "metadata": {},
     "output_type": "execute_result"
    }
   ],
   "source": [
    "import pandas as pd\n",
    "import numpy as np\n",
    "import matplotlib.pyplot as plt\n",
    "import seaborn as sns\n",
    "\n",
    "plt.style.use('ggplot')\n",
    "\n",
    "import nltk\n",
    "nltk.download('punkt')\n",
    "nltk.download('averaged_perceptron_tagger')\n",
    "nltk.download('maxent_ne_chunker')\n",
    "nltk.download('words')\n",
    "nltk.download('vader_lexicon')"
   ]
  },
  {
   "cell_type": "code",
   "execution_count": 3,
   "metadata": {},
   "outputs": [],
   "source": [
    "df = pd.read_csv('inputs/Reviews.csv')"
   ]
  },
  {
   "cell_type": "code",
   "execution_count": 4,
   "metadata": {},
   "outputs": [],
   "source": [
    "df = df.head(500)"
   ]
  },
  {
   "cell_type": "code",
   "execution_count": 5,
   "metadata": {},
   "outputs": [
    {
     "data": {
      "text/plain": [
       "'I have bought several of the Vitality canned dog food products and have found them all to be of good quality. The product looks more like a stew than a processed meat and it smells better. My Labrador is finicky and she appreciates this product better than  most.'"
      ]
     },
     "execution_count": 5,
     "metadata": {},
     "output_type": "execute_result"
    }
   ],
   "source": [
    "df['Text'][0]"
   ]
  },
  {
   "cell_type": "code",
   "execution_count": 6,
   "metadata": {},
   "outputs": [
    {
     "data": {
      "text/plain": [
       "Index(['Id', 'ProductId', 'UserId', 'ProfileName', 'HelpfulnessNumerator',\n",
       "       'HelpfulnessDenominator', 'Score', 'Time', 'Summary', 'Text'],\n",
       "      dtype='object')"
      ]
     },
     "execution_count": 6,
     "metadata": {},
     "output_type": "execute_result"
    }
   ],
   "source": [
    "df.columns"
   ]
  },
  {
   "cell_type": "markdown",
   "metadata": {},
   "source": [
    "## Quick EDA"
   ]
  },
  {
   "cell_type": "code",
   "execution_count": 7,
   "metadata": {},
   "outputs": [
    {
     "data": {
      "image/png": "[encoded data removed]",
      "text/plain": [
       "<Figure size 1000x500 with 1 Axes>"
      ]
     },
     "metadata": {},
     "output_type": "display_data"
    }
   ],
   "source": [
    "ax = df['Score'].value_counts().sort_index().plot(kind='bar', title=\"Count of Reviews by Stars\", figsize=(10,5))\n",
    "ax.set_xlabel('Review Start')\n",
    "plt.show()\n"
   ]
  },
  {
   "attachments": {},
   "cell_type": "markdown",
   "metadata": {},
   "source": [
    "### Basic nltk"
   ]
  },
  {
   "cell_type": "code",
   "execution_count": 8,
   "metadata": {},
   "outputs": [
    {
     "name": "stdout",
     "output_type": "stream",
     "text": [
      "This oatmeal is not good. Its mushy, soft, I don't like it. Quaker Oats is the way to go.\n"
     ]
    }
   ],
   "source": [
    "example = df['Text'][50]\n",
    "print(example)"
   ]
  },
  {
   "cell_type": "code",
   "execution_count": 9,
   "metadata": {},
   "outputs": [],
   "source": [
    "import nltk"
   ]
  },
  {
   "cell_type": "code",
   "execution_count": 10,
   "metadata": {},
   "outputs": [
    {
     "data": {
      "text/plain": [
       "['This', 'oatmeal', 'is', 'not', 'good', '.', 'Its', 'mushy', ',', 'soft']"
      ]
     },
     "execution_count": 10,
     "metadata": {},
     "output_type": "execute_result"
    }
   ],
   "source": [
    "tokens = nltk.word_tokenize(example)\n",
    "tokens[:10]"
   ]
  },
  {
   "cell_type": "code",
   "execution_count": 11,
   "metadata": {},
   "outputs": [
    {
     "data": {
      "text/plain": [
       "[('This', 'DT'),\n",
       " ('oatmeal', 'NN'),\n",
       " ('is', 'VBZ'),\n",
       " ('not', 'RB'),\n",
       " ('good', 'JJ'),\n",
       " ('.', '.'),\n",
       " ('Its', 'PRP$'),\n",
       " ('mushy', 'NN'),\n",
       " (',', ','),\n",
       " ('soft', 'JJ')]"
      ]
     },
     "execution_count": 11,
     "metadata": {},
     "output_type": "execute_result"
    }
   ],
   "source": [
    "tagged = nltk.pos_tag(tokens)\n",
    "tagged[:10]"
   ]
  },
  {
   "cell_type": "code",
   "execution_count": 12,
   "metadata": {},
   "outputs": [
    {
     "name": "stdout",
     "output_type": "stream",
     "text": [
      "(S\n",
      "  This/DT\n",
      "  oatmeal/NN\n",
      "  is/VBZ\n",
      "  not/RB\n",
      "  good/JJ\n",
      "  ./.\n",
      "  Its/PRP$\n",
      "  mushy/NN\n",
      "  ,/,\n",
      "  soft/JJ\n",
      "  ,/,\n",
      "  I/PRP\n",
      "  do/VBP\n",
      "  n't/RB\n",
      "  like/VB\n",
      "  it/PRP\n",
      "  ./.\n",
      "  (ORGANIZATION Quaker/NNP Oats/NNPS)\n",
      "  is/VBZ\n",
      "  the/DT\n",
      "  way/NN\n",
      "  to/TO\n",
      "  go/VB\n",
      "  ./.)\n"
     ]
    }
   ],
   "source": [
    "entities = nltk.chunk.ne_chunk(tagged_tokens=tagged)\n",
    "entities.pprint()"
   ]
  },
  {
   "attachments": {},
   "cell_type": "markdown",
   "metadata": {},
   "source": [
    "## Step 1: VADER Sentiment Scoring\n",
    "\n",
    "###  a. Stop words are removed\n",
    "###  b. Each word is scored and combined to a total score"
   ]
  },
  {
   "cell_type": "code",
   "execution_count": 13,
   "metadata": {},
   "outputs": [],
   "source": [
    "from nltk.sentiment import SentimentIntensityAnalyzer\n",
    "from tqdm import tqdm"
   ]
  },
  {
   "cell_type": "code",
   "execution_count": 14,
   "metadata": {},
   "outputs": [],
   "source": [
    "sia = SentimentIntensityAnalyzer()"
   ]
  },
  {
   "cell_type": "code",
   "execution_count": 15,
   "metadata": {},
   "outputs": [
    {
     "data": {
      "text/plain": [
       "{'neg': 0.0, 'neu': 0.502, 'pos': 0.498, 'compound': 0.4534}"
      ]
     },
     "execution_count": 15,
     "metadata": {},
     "output_type": "execute_result"
    }
   ],
   "source": [
    "sia.polarity_scores('I am very much excited!')"
   ]
  },
  {
   "cell_type": "code",
   "execution_count": 16,
   "metadata": {},
   "outputs": [
    {
     "data": {
      "text/plain": [
       "{'neg': 0.451, 'neu': 0.549, 'pos': 0.0, 'compound': -0.6249}"
      ]
     },
     "execution_count": 16,
     "metadata": {},
     "output_type": "execute_result"
    }
   ],
   "source": [
    "sia.polarity_scores('This is the worst thing ever.')"
   ]
  },
  {
   "cell_type": "code",
   "execution_count": 17,
   "metadata": {},
   "outputs": [
    {
     "data": {
      "text/plain": [
       "{'neg': 0.22, 'neu': 0.78, 'pos': 0.0, 'compound': -0.5448}"
      ]
     },
     "execution_count": 17,
     "metadata": {},
     "output_type": "execute_result"
    }
   ],
   "source": [
    "sia.polarity_scores(example)"
   ]
  },
  {
   "cell_type": "code",
   "execution_count": 18,
   "metadata": {},
   "outputs": [
    {
     "name": "stderr",
     "output_type": "stream",
     "text": [
      "100%|██████████| 500/500 [00:00<00:00, 1847.84it/s]\n"
     ]
    }
   ],
   "source": [
    "# Run the polarity score ont he entire dataset\n",
    "vader_res = {}\n",
    "for i, row in tqdm(df.iterrows(), total=len(df)):\n",
    "    text = row['Text']\n",
    "    myid = row['Id']\n",
    "    vader_res[myid] = sia.polarity_scores(text)\n",
    "    "
   ]
  },
  {
   "cell_type": "code",
   "execution_count": 19,
   "metadata": {},
   "outputs": [],
   "source": [
    "vaders = pd.DataFrame(vader_res).T\n",
    "vaders =vaders.reset_index().rename(columns = {'index':'Id'})\n",
    "vaders = vaders.merge(df, how='left')"
   ]
  },
  {
   "cell_type": "code",
   "execution_count": 20,
   "metadata": {},
   "outputs": [
    {
     "data": {
      "text/html": [
       "<div>\n",
       "<style scoped>\n",
       "    .dataframe tbody tr th:only-of-type {\n",
       "        vertical-align: middle;\n",
       "    }\n",
       "\n",
       "    .dataframe tbody tr th {\n",
       "        vertical-align: top;\n",
       "    }\n",
       "\n",
       "    .dataframe thead th {\n",
       "        text-align: right;\n",
       "    }\n",
       "</style>\n",
       "<table border=\"1\" class=\"dataframe\">\n",
       "  <thead>\n",
       "    <tr style=\"text-align: right;\">\n",
       "      <th></th>\n",
       "      <th>Id</th>\n",
       "      <th>neg</th>\n",
       "      <th>neu</th>\n",
       "      <th>pos</th>\n",
       "      <th>compound</th>\n",
       "      <th>ProductId</th>\n",
       "      <th>UserId</th>\n",
       "      <th>ProfileName</th>\n",
       "      <th>HelpfulnessNumerator</th>\n",
       "      <th>HelpfulnessDenominator</th>\n",
       "      <th>Score</th>\n",
       "      <th>Time</th>\n",
       "      <th>Summary</th>\n",
       "      <th>Text</th>\n",
       "    </tr>\n",
       "  </thead>\n",
       "  <tbody>\n",
       "    <tr>\n",
       "      <th>0</th>\n",
       "      <td>1</td>\n",
       "      <td>0.000</td>\n",
       "      <td>0.695</td>\n",
       "      <td>0.305</td>\n",
       "      <td>0.9441</td>\n",
       "      <td>B001E4KFG0</td>\n",
       "      <td>A3SGXH7AUHU8GW</td>\n",
       "      <td>delmartian</td>\n",
       "      <td>1</td>\n",
       "      <td>1</td>\n",
       "      <td>5</td>\n",
       "      <td>1303862400</td>\n",
       "      <td>Good Quality Dog Food</td>\n",
       "      <td>I have bought several of the Vitality canned d...</td>\n",
       "    </tr>\n",
       "    <tr>\n",
       "      <th>1</th>\n",
       "      <td>2</td>\n",
       "      <td>0.138</td>\n",
       "      <td>0.862</td>\n",
       "      <td>0.000</td>\n",
       "      <td>-0.5664</td>\n",
       "      <td>B00813GRG4</td>\n",
       "      <td>A1D87F6ZCVE5NK</td>\n",
       "      <td>dll pa</td>\n",
       "      <td>0</td>\n",
       "      <td>0</td>\n",
       "      <td>1</td>\n",
       "      <td>1346976000</td>\n",
       "      <td>Not as Advertised</td>\n",
       "      <td>Product arrived labeled as Jumbo Salted Peanut...</td>\n",
       "    </tr>\n",
       "  </tbody>\n",
       "</table>\n",
       "</div>"
      ],
      "text/plain": [
       "   Id    neg    neu    pos  compound   ProductId          UserId ProfileName  \\\n",
       "0   1  0.000  0.695  0.305    0.9441  B001E4KFG0  A3SGXH7AUHU8GW  delmartian   \n",
       "1   2  0.138  0.862  0.000   -0.5664  B00813GRG4  A1D87F6ZCVE5NK      dll pa   \n",
       "\n",
       "   HelpfulnessNumerator  HelpfulnessDenominator  Score        Time  \\\n",
       "0                     1                       1      5  1303862400   \n",
       "1                     0                       0      1  1346976000   \n",
       "\n",
       "                 Summary                                               Text  \n",
       "0  Good Quality Dog Food  I have bought several of the Vitality canned d...  \n",
       "1      Not as Advertised  Product arrived labeled as Jumbo Salted Peanut...  "
      ]
     },
     "execution_count": 20,
     "metadata": {},
     "output_type": "execute_result"
    }
   ],
   "source": [
    "# We have sentiment score and metadata\n",
    "vaders.head(2)"
   ]
  },
  {
   "attachments": {},
   "cell_type": "markdown",
   "metadata": {},
   "source": [
    "### Step 2:\n",
    "#### Plot Vader Results"
   ]
  },
  {
   "cell_type": "code",
   "execution_count": 21,
   "metadata": {},
   "outputs": [
    {
     "data": {
      "image/png": "[encoded data removed]",
      "text/plain": [
       "<Figure size 640x480 with 1 Axes>"
      ]
     },
     "metadata": {},
     "output_type": "display_data"
    }
   ],
   "source": [
    "ax = sns.barplot(vaders, x='Score',y='compound')\n",
    "ax.set_title('Compund Score by Amazon Star Review')\n",
    "plt.show()"
   ]
  },
  {
   "cell_type": "code",
   "execution_count": 22,
   "metadata": {},
   "outputs": [
    {
     "data": {
      "image/png": "[encoded data removed]",
      "text/plain": [
       "<Figure size 1000x300 with 3 Axes>"
      ]
     },
     "metadata": {},
     "output_type": "display_data"
    }
   ],
   "source": [
    "fig, axs = plt.subplots(1,3, figsize = (10,3))\n",
    "sns.barplot(vaders, x='Score', y='pos', ax=axs[0])\n",
    "sns.barplot(vaders, x='Score', y='neu', ax=axs[1])\n",
    "sns.barplot(vaders, x='Score', y='neg', ax=axs[2])\n",
    "axs[0].set_title('Positive')\n",
    "axs[1].set_title('Neutral')\n",
    "axs[2].set_title('Negative')\n",
    "plt.tight_layout()\n",
    "plt.show()"
   ]
  },
  {
   "attachments": {},
   "cell_type": "markdown",
   "metadata": {},
   "source": [
    "### Step 3: Roberta Pretrained Model\n",
    "\n",
    "##### * Use a model trained on a large corpus of data\n",
    "##### * Transformer model accounts for the words but also the context related to other words"
   ]
  },
  {
   "cell_type": "code",
   "execution_count": 23,
   "metadata": {},
   "outputs": [
    {
     "name": "stderr",
     "output_type": "stream",
     "text": [
      "/Users/kartiknerwal/miniforge3/envs/nlp/lib/python3.9/site-packages/tqdm/auto.py:21: TqdmWarning: IProgress not found. Please update jupyter and ipywidgets. See https://ipywidgets.readthedocs.io/en/stable/user_install.html\n",
      "  from .autonotebook import tqdm as notebook_tqdm\n"
     ]
    }
   ],
   "source": [
    "from transformers import AutoTokenizer\n",
    "from transformers import AutoModelForSequenceClassification\n",
    "from scipy.special import softmax"
   ]
  },
  {
   "cell_type": "code",
   "execution_count": 24,
   "metadata": {},
   "outputs": [
    {
     "name": "stderr",
     "output_type": "stream",
     "text": [
      "Some weights of the model checkpoint at cardiffnlp/twitter-roberta-base-sentiment-latest were not used when initializing RobertaForSequenceClassification: ['roberta.pooler.dense.weight', 'roberta.pooler.dense.bias']\n",
      "- This IS expected if you are initializing RobertaForSequenceClassification from the checkpoint of a model trained on another task or with another architecture (e.g. initializing a BertForSequenceClassification model from a BertForPreTraining model).\n",
      "- This IS NOT expected if you are initializing RobertaForSequenceClassification from the checkpoint of a model that you expect to be exactly identical (initializing a BertForSequenceClassification model from a BertForSequenceClassification model).\n"
     ]
    }
   ],
   "source": [
    "MODEL = 'cardiffnlp/twitter-roberta-base-sentiment-latest'\n",
    "tokenizer = AutoTokenizer.from_pretrained(MODEL)\n",
    "model = AutoModelForSequenceClassification.from_pretrained(MODEL)\n"
   ]
  },
  {
   "cell_type": "code",
   "execution_count": 25,
   "metadata": {},
   "outputs": [
    {
     "name": "stdout",
     "output_type": "stream",
     "text": [
      "This oatmeal is not good. Its mushy, soft, I don't like it. Quaker Oats is the way to go.\n"
     ]
    },
    {
     "data": {
      "text/plain": [
       "{'neg': 0.22, 'neu': 0.78, 'pos': 0.0, 'compound': -0.5448}"
      ]
     },
     "execution_count": 25,
     "metadata": {},
     "output_type": "execute_result"
    }
   ],
   "source": [
    "# VADER results on example\n",
    "print(example)\n",
    "sia.polarity_scores(example)"
   ]
  },
  {
   "cell_type": "code",
   "execution_count": 26,
   "metadata": {},
   "outputs": [],
   "source": [
    "def polarity_scores_roberta(example):\n",
    "    encoded_text = tokenizer(example, return_tensors = 'pt')\n",
    "    output = model(**encoded_text)\n",
    "    scores = output[0][0].detach().numpy()\n",
    "    scores = softmax(scores)\n",
    "    scores_dict = {\n",
    "        'roberta_neg': scores[0],\n",
    "        'roberta_new': scores[1],\n",
    "        'roberta_pos': scores[2]\n",
    "    }\n",
    "    return scores_dict"
   ]
  },
  {
   "cell_type": "code",
   "execution_count": 27,
   "metadata": {},
   "outputs": [
    {
     "data": {
      "text/html": [
       "<div>\n",
       "<style scoped>\n",
       "    .dataframe tbody tr th:only-of-type {\n",
       "        vertical-align: middle;\n",
       "    }\n",
       "\n",
       "    .dataframe tbody tr th {\n",
       "        vertical-align: top;\n",
       "    }\n",
       "\n",
       "    .dataframe thead th {\n",
       "        text-align: right;\n",
       "    }\n",
       "</style>\n",
       "<table border=\"1\" class=\"dataframe\">\n",
       "  <thead>\n",
       "    <tr style=\"text-align: right;\">\n",
       "      <th></th>\n",
       "      <th>Id</th>\n",
       "      <th>ProductId</th>\n",
       "      <th>UserId</th>\n",
       "      <th>ProfileName</th>\n",
       "      <th>HelpfulnessNumerator</th>\n",
       "      <th>HelpfulnessDenominator</th>\n",
       "      <th>Score</th>\n",
       "      <th>Time</th>\n",
       "      <th>Summary</th>\n",
       "      <th>Text</th>\n",
       "    </tr>\n",
       "  </thead>\n",
       "  <tbody>\n",
       "    <tr>\n",
       "      <th>0</th>\n",
       "      <td>1</td>\n",
       "      <td>B001E4KFG0</td>\n",
       "      <td>A3SGXH7AUHU8GW</td>\n",
       "      <td>delmartian</td>\n",
       "      <td>1</td>\n",
       "      <td>1</td>\n",
       "      <td>5</td>\n",
       "      <td>1303862400</td>\n",
       "      <td>Good Quality Dog Food</td>\n",
       "      <td>I have bought several of the Vitality canned d...</td>\n",
       "    </tr>\n",
       "  </tbody>\n",
       "</table>\n",
       "</div>"
      ],
      "text/plain": [
       "   Id   ProductId          UserId ProfileName  HelpfulnessNumerator  \\\n",
       "0   1  B001E4KFG0  A3SGXH7AUHU8GW  delmartian                     1   \n",
       "\n",
       "   HelpfulnessDenominator  Score        Time                Summary  \\\n",
       "0                       1      5  1303862400  Good Quality Dog Food   \n",
       "\n",
       "                                                Text  \n",
       "0  I have bought several of the Vitality canned d...  "
      ]
     },
     "execution_count": 27,
     "metadata": {},
     "output_type": "execute_result"
    }
   ],
   "source": [
    "df.head(1)"
   ]
  },
  {
   "cell_type": "code",
   "execution_count": 28,
   "metadata": {},
   "outputs": [
    {
     "name": "stderr",
     "output_type": "stream",
     "text": [
      " 17%|█▋        | 85/500 [00:06<00:27, 15.35it/s]"
     ]
    },
    {
     "name": "stdout",
     "output_type": "stream",
     "text": [
      "Broke for id 83\n"
     ]
    },
    {
     "name": "stderr",
     "output_type": "stream",
     "text": [
      " 38%|███▊      | 188/500 [00:14<00:20, 15.49it/s]"
     ]
    },
    {
     "name": "stdout",
     "output_type": "stream",
     "text": [
      "Broke for id 187\n"
     ]
    },
    {
     "name": "stderr",
     "output_type": "stream",
     "text": [
      "100%|██████████| 500/500 [00:39<00:00, 12.63it/s]\n"
     ]
    }
   ],
   "source": [
    "# roberta_res = {}\n",
    "# vader_res = {}\n",
    "res = {}\n",
    "for i, row in tqdm(df.iterrows(), total=len(df)):\n",
    "    try:\n",
    "        text = row['Text']\n",
    "        myid = row['Id']\n",
    "        vader_res = sia.polarity_scores(text)\n",
    "        vader_res_rename = {}\n",
    "        for key, value in vader_res.items():\n",
    "            vader_res_rename[f\"vader_{key}\"] = value\n",
    "        roberta_res = polarity_scores_roberta(text)\n",
    "        both = {**vader_res_rename, **roberta_res}\n",
    "        res[myid] = both\n",
    "    except RuntimeError:\n",
    "        print(f\"Broke for id {myid}\")"
   ]
  },
  {
   "cell_type": "code",
   "execution_count": 29,
   "metadata": {},
   "outputs": [
    {
     "data": {
      "text/html": [
       "<div>\n",
       "<style scoped>\n",
       "    .dataframe tbody tr th:only-of-type {\n",
       "        vertical-align: middle;\n",
       "    }\n",
       "\n",
       "    .dataframe tbody tr th {\n",
       "        vertical-align: top;\n",
       "    }\n",
       "\n",
       "    .dataframe thead th {\n",
       "        text-align: right;\n",
       "    }\n",
       "</style>\n",
       "<table border=\"1\" class=\"dataframe\">\n",
       "  <thead>\n",
       "    <tr style=\"text-align: right;\">\n",
       "      <th></th>\n",
       "      <th>Id</th>\n",
       "      <th>vader_neg</th>\n",
       "      <th>vader_neu</th>\n",
       "      <th>vader_pos</th>\n",
       "      <th>vader_compound</th>\n",
       "      <th>roberta_neg</th>\n",
       "      <th>roberta_new</th>\n",
       "      <th>roberta_pos</th>\n",
       "      <th>ProductId</th>\n",
       "      <th>UserId</th>\n",
       "      <th>ProfileName</th>\n",
       "      <th>HelpfulnessNumerator</th>\n",
       "      <th>HelpfulnessDenominator</th>\n",
       "      <th>Score</th>\n",
       "      <th>Time</th>\n",
       "      <th>Summary</th>\n",
       "      <th>Text</th>\n",
       "    </tr>\n",
       "  </thead>\n",
       "  <tbody>\n",
       "    <tr>\n",
       "      <th>0</th>\n",
       "      <td>1</td>\n",
       "      <td>0.0</td>\n",
       "      <td>0.695</td>\n",
       "      <td>0.305</td>\n",
       "      <td>0.9441</td>\n",
       "      <td>0.010578</td>\n",
       "      <td>0.038816</td>\n",
       "      <td>0.950607</td>\n",
       "      <td>B001E4KFG0</td>\n",
       "      <td>A3SGXH7AUHU8GW</td>\n",
       "      <td>delmartian</td>\n",
       "      <td>1</td>\n",
       "      <td>1</td>\n",
       "      <td>5</td>\n",
       "      <td>1303862400</td>\n",
       "      <td>Good Quality Dog Food</td>\n",
       "      <td>I have bought several of the Vitality canned d...</td>\n",
       "    </tr>\n",
       "  </tbody>\n",
       "</table>\n",
       "</div>"
      ],
      "text/plain": [
       "   Id  vader_neg  vader_neu  vader_pos  vader_compound  roberta_neg  \\\n",
       "0   1        0.0      0.695      0.305          0.9441     0.010578   \n",
       "\n",
       "   roberta_new  roberta_pos   ProductId          UserId ProfileName  \\\n",
       "0     0.038816     0.950607  B001E4KFG0  A3SGXH7AUHU8GW  delmartian   \n",
       "\n",
       "   HelpfulnessNumerator  HelpfulnessDenominator  Score        Time  \\\n",
       "0                     1                       1      5  1303862400   \n",
       "\n",
       "                 Summary                                               Text  \n",
       "0  Good Quality Dog Food  I have bought several of the Vitality canned d...  "
      ]
     },
     "execution_count": 29,
     "metadata": {},
     "output_type": "execute_result"
    }
   ],
   "source": [
    "results_df = pd.DataFrame(res).T\n",
    "results_df = results_df.reset_index().rename(columns={'index':'Id'})\n",
    "results_df = results_df.merge(df, how='left')\n",
    "results_df.head(1)"
   ]
  },
  {
   "cell_type": "code",
   "execution_count": 30,
   "metadata": {},
   "outputs": [
    {
     "data": {
      "text/plain": [
       "Index(['Id', 'vader_neg', 'vader_neu', 'vader_pos', 'vader_compound',\n",
       "       'roberta_neg', 'roberta_new', 'roberta_pos', 'ProductId', 'UserId',\n",
       "       'ProfileName', 'HelpfulnessNumerator', 'HelpfulnessDenominator',\n",
       "       'Score', 'Time', 'Summary', 'Text'],\n",
       "      dtype='object')"
      ]
     },
     "execution_count": 30,
     "metadata": {},
     "output_type": "execute_result"
    }
   ],
   "source": [
    "results_df.columns"
   ]
  },
  {
   "cell_type": "code",
   "execution_count": null,
   "metadata": {},
   "outputs": [],
   "source": [
    "## Compare Scores b/w Models\n",
    "sns.pairplot(results_df, \n",
    "             vars=['vader_neg', 'vader_neu', 'vader_pos',\n",
    "            'roberta_neg', 'roberta_new', 'roberta_pos'],\n",
    "            hue='Score',\n",
    "            palette='tab10')\n",
    "plt.show()"
   ]
  },
  {
   "attachments": {},
   "cell_type": "markdown",
   "metadata": {},
   "source": [
    "## Step 4:\n",
    "#### * Let's look at some examples where model scoring and review scoring differ the most\n"
   ]
  },
  {
   "cell_type": "code",
   "execution_count": 39,
   "metadata": {},
   "outputs": [
    {
     "data": {
      "text/plain": [
       "'So we cancelled the order.  It was cancelled without any problem.  That is a positive note...'"
      ]
     },
     "execution_count": 39,
     "metadata": {},
     "output_type": "execute_result"
    }
   ],
   "source": [
    "results_df.query('Score == 1').sort_values('roberta_pos', ascending=False)['Text'].values[0]"
   ]
  },
  {
   "cell_type": "code",
   "execution_count": 37,
   "metadata": {},
   "outputs": [
    {
     "data": {
      "text/plain": [
       "'So we cancelled the order.  It was cancelled without any problem.  That is a positive note...'"
      ]
     },
     "execution_count": 37,
     "metadata": {},
     "output_type": "execute_result"
    }
   ],
   "source": [
    "results_df.query('Score == 1').sort_values('vader_pos', ascending=False)['Text'].values[0]"
   ]
  },
  {
   "cell_type": "code",
   "execution_count": 40,
   "metadata": {},
   "outputs": [],
   "source": [
    "# Negative sentiment 5 stars review"
   ]
  },
  {
   "cell_type": "code",
   "execution_count": 44,
   "metadata": {},
   "outputs": [
    {
     "data": {
      "text/plain": [
       "'I have bought several of the Vitality canned dog food products and have found them all to be of good quality. The product looks more like a stew than a processed meat and it smells better. My Labrador is finicky and she appreciates this product better than  most.'"
      ]
     },
     "execution_count": 44,
     "metadata": {},
     "output_type": "execute_result"
    }
   ],
   "source": [
    "results_df.query('Score == 5').sort_values('roberta_neg', ascending=False)['Text'][0]"
   ]
  },
  {
   "cell_type": "code",
   "execution_count": 45,
   "metadata": {},
   "outputs": [
    {
     "data": {
      "text/plain": [
       "'I have bought several of the Vitality canned dog food products and have found them all to be of good quality. The product looks more like a stew than a processed meat and it smells better. My Labrador is finicky and she appreciates this product better than  most.'"
      ]
     },
     "execution_count": 45,
     "metadata": {},
     "output_type": "execute_result"
    }
   ],
   "source": [
    "results_df.query('Score == 5').sort_values('vader_neg', ascending=False)['Text'][0]"
   ]
  },
  {
   "attachments": {},
   "cell_type": "markdown",
   "metadata": {},
   "source": [
    "## The Transformers Pipeline\n",
    "##### * Quick & easy way to run sentiment predictions"
   ]
  },
  {
   "cell_type": "code",
   "execution_count": 46,
   "metadata": {},
   "outputs": [],
   "source": [
    "from transformers import pipeline"
   ]
  },
  {
   "cell_type": "code",
   "execution_count": 50,
   "metadata": {},
   "outputs": [
    {
     "name": "stderr",
     "output_type": "stream",
     "text": [
      "Some weights of the model checkpoint at cardiffnlp/twitter-roberta-base-sentiment-latest were not used when initializing RobertaForSequenceClassification: ['roberta.pooler.dense.weight', 'roberta.pooler.dense.bias']\n",
      "- This IS expected if you are initializing RobertaForSequenceClassification from the checkpoint of a model trained on another task or with another architecture (e.g. initializing a BertForSequenceClassification model from a BertForPreTraining model).\n",
      "- This IS NOT expected if you are initializing RobertaForSequenceClassification from the checkpoint of a model that you expect to be exactly identical (initializing a BertForSequenceClassification model from a BertForSequenceClassification model).\n"
     ]
    }
   ],
   "source": [
    "sentiment_pipeline = pipeline(\"sentiment-analysis\", model=MODEL)"
   ]
  },
  {
   "cell_type": "code",
   "execution_count": 52,
   "metadata": {},
   "outputs": [
    {
     "name": "stderr",
     "output_type": "stream",
     "text": [
      "100%|██████████| 500/500 [00:31<00:00, 16.01it/s]\n"
     ]
    }
   ],
   "source": [
    "pipe_res = {}\n",
    "for i, row in tqdm(df.iterrows(), total=len(df)):\n",
    "    try:    \n",
    "        text = row['Text']\n",
    "        myid = row['Id']\n",
    "        pipe_res[myid] = sentiment_pipeline(text)\n",
    "    except:\n",
    "        continue"
   ]
  },
  {
   "cell_type": "code",
   "execution_count": 53,
   "metadata": {},
   "outputs": [
    {
     "data": {
      "text/plain": [
       "{1: [{'label': 'positive', 'score': 0.9506067037582397}],\n",
       " 2: [{'label': 'negative', 'score': 0.7167685627937317}],\n",
       " 3: [{'label': 'positive', 'score': 0.9169661402702332}],\n",
       " 4: [{'label': 'positive', 'score': 0.9499569535255432}],\n",
       " 5: [{'label': 'positive', 'score': 0.9861896634101868}],\n",
       " 6: [{'label': 'positive', 'score': 0.9675799012184143}],\n",
       " 7: [{'label': 'positive', 'score': 0.9815031290054321}],\n",
       " 8: [{'label': 'positive', 'score': 0.9885830879211426}],\n",
       " 9: [{'label': 'positive', 'score': 0.9395179152488708}],\n",
       " 10: [{'label': 'positive', 'score': 0.962296187877655}],\n",
       " 11: [{'label': 'positive', 'score': 0.9211084842681885}],\n",
       " 12: [{'label': 'neutral', 'score': 0.5993607640266418}],\n",
       " 13: [{'label': 'neutral', 'score': 0.4804050922393799}],\n",
       " 14: [{'label': 'positive', 'score': 0.9902116656303406}],\n",
       " 15: [{'label': 'positive', 'score': 0.9802030324935913}],\n",
       " 16: [{'label': 'positive', 'score': 0.9819538593292236}],\n",
       " 17: [{'label': 'positive', 'score': 0.9679679870605469}],\n",
       " 18: [{'label': 'positive', 'score': 0.9888439178466797}],\n",
       " 19: [{'label': 'positive', 'score': 0.8887796401977539}],\n",
       " 20: [{'label': 'positive', 'score': 0.9607948064804077}],\n",
       " 21: [{'label': 'positive', 'score': 0.9153648018836975}],\n",
       " 22: [{'label': 'positive', 'score': 0.979706883430481}],\n",
       " 23: [{'label': 'positive', 'score': 0.9568408131599426}],\n",
       " 24: [{'label': 'positive', 'score': 0.9210255742073059}],\n",
       " 25: [{'label': 'positive', 'score': 0.9238470792770386}],\n",
       " 26: [{'label': 'neutral', 'score': 0.7878869771957397}],\n",
       " 27: [{'label': 'negative', 'score': 0.9351215362548828}],\n",
       " 28: [{'label': 'positive', 'score': 0.970493495464325}],\n",
       " 29: [{'label': 'positive', 'score': 0.9116453528404236}],\n",
       " 30: [{'label': 'positive', 'score': 0.9211084842681885}],\n",
       " 31: [{'label': 'positive', 'score': 0.9404877424240112}],\n",
       " 32: [{'label': 'positive', 'score': 0.9815875291824341}],\n",
       " 33: [{'label': 'positive', 'score': 0.5231530070304871}],\n",
       " 34: [{'label': 'positive', 'score': 0.9543637037277222}],\n",
       " 35: [{'label': 'positive', 'score': 0.8779423832893372}],\n",
       " 36: [{'label': 'positive', 'score': 0.5831121206283569}],\n",
       " 37: [{'label': 'positive', 'score': 0.9748547077178955}],\n",
       " 38: [{'label': 'positive', 'score': 0.6421127319335938}],\n",
       " 39: [{'label': 'neutral', 'score': 0.6084157824516296}],\n",
       " 40: [{'label': 'positive', 'score': 0.9825724363327026}],\n",
       " 41: [{'label': 'positive', 'score': 0.9613734483718872}],\n",
       " 42: [{'label': 'positive', 'score': 0.8015307188034058}],\n",
       " 43: [{'label': 'positive', 'score': 0.9794832468032837}],\n",
       " 44: [{'label': 'positive', 'score': 0.9690556526184082}],\n",
       " 45: [{'label': 'positive', 'score': 0.9394568204879761}],\n",
       " 46: [{'label': 'negative', 'score': 0.8471858501434326}],\n",
       " 47: [{'label': 'positive', 'score': 0.7506591081619263}],\n",
       " 48: [{'label': 'positive', 'score': 0.6337817907333374}],\n",
       " 49: [{'label': 'positive', 'score': 0.965913712978363}],\n",
       " 50: [{'label': 'negative', 'score': 0.9112232327461243}],\n",
       " 51: [{'label': 'negative', 'score': 0.9535124897956848}],\n",
       " 52: [{'label': 'positive', 'score': 0.957343578338623}],\n",
       " 53: [{'label': 'neutral', 'score': 0.6845285296440125}],\n",
       " 54: [{'label': 'negative', 'score': 0.6299068927764893}],\n",
       " 55: [{'label': 'positive', 'score': 0.8304128646850586}],\n",
       " 56: [{'label': 'positive', 'score': 0.9734955430030823}],\n",
       " 57: [{'label': 'positive', 'score': 0.9835317134857178}],\n",
       " 58: [{'label': 'positive', 'score': 0.9784859418869019}],\n",
       " 59: [{'label': 'positive', 'score': 0.9896343946456909}],\n",
       " 60: [{'label': 'positive', 'score': 0.9112072587013245}],\n",
       " 61: [{'label': 'neutral', 'score': 0.5699055194854736}],\n",
       " 62: [{'label': 'positive', 'score': 0.613952100276947}],\n",
       " 63: [{'label': 'negative', 'score': 0.8437021970748901}],\n",
       " 64: [{'label': 'positive', 'score': 0.8436066508293152}],\n",
       " 65: [{'label': 'positive', 'score': 0.9590818881988525}],\n",
       " 66: [{'label': 'positive', 'score': 0.9009232521057129}],\n",
       " 67: [{'label': 'neutral', 'score': 0.4552292227745056}],\n",
       " 68: [{'label': 'negative', 'score': 0.8206982612609863}],\n",
       " 69: [{'label': 'positive', 'score': 0.45897021889686584}],\n",
       " 70: [{'label': 'negative', 'score': 0.8411048054695129}],\n",
       " 71: [{'label': 'positive', 'score': 0.8851954936981201}],\n",
       " 72: [{'label': 'positive', 'score': 0.7959135174751282}],\n",
       " 73: [{'label': 'positive', 'score': 0.9723005890846252}],\n",
       " 74: [{'label': 'negative', 'score': 0.7406778931617737}],\n",
       " 75: [{'label': 'neutral', 'score': 0.6230669021606445}],\n",
       " 76: [{'label': 'negative', 'score': 0.9365567564964294}],\n",
       " 77: [{'label': 'negative', 'score': 0.6571421027183533}],\n",
       " 78: [{'label': 'positive', 'score': 0.9210788607597351}],\n",
       " 79: [{'label': 'positive', 'score': 0.8517078757286072}],\n",
       " 80: [{'label': 'positive', 'score': 0.40101152658462524}],\n",
       " 81: [{'label': 'positive', 'score': 0.9828361868858337}],\n",
       " 82: [{'label': 'positive', 'score': 0.9835493564605713}],\n",
       " 84: [{'label': 'neutral', 'score': 0.47923949360847473}],\n",
       " 85: [{'label': 'positive', 'score': 0.4220988154411316}],\n",
       " 86: [{'label': 'positive', 'score': 0.9755723476409912}],\n",
       " 87: [{'label': 'neutral', 'score': 0.432800829410553}],\n",
       " 88: [{'label': 'positive', 'score': 0.9467729330062866}],\n",
       " 89: [{'label': 'positive', 'score': 0.7425309419631958}],\n",
       " 90: [{'label': 'positive', 'score': 0.9820349216461182}],\n",
       " 91: [{'label': 'positive', 'score': 0.9270600080490112}],\n",
       " 92: [{'label': 'positive', 'score': 0.9602502584457397}],\n",
       " 93: [{'label': 'positive', 'score': 0.9795230627059937}],\n",
       " 94: [{'label': 'positive', 'score': 0.926005482673645}],\n",
       " 95: [{'label': 'neutral', 'score': 0.5454645752906799}],\n",
       " 96: [{'label': 'positive', 'score': 0.8506491184234619}],\n",
       " 97: [{'label': 'positive', 'score': 0.9312636852264404}],\n",
       " 98: [{'label': 'negative', 'score': 0.39367416501045227}],\n",
       " 99: [{'label': 'neutral', 'score': 0.6612352132797241}],\n",
       " 100: [{'label': 'negative', 'score': 0.9447817802429199}],\n",
       " 101: [{'label': 'neutral', 'score': 0.41100847721099854}],\n",
       " 102: [{'label': 'neutral', 'score': 0.5074358582496643}],\n",
       " 103: [{'label': 'positive', 'score': 0.889644205570221}],\n",
       " 104: [{'label': 'positive', 'score': 0.9420285820960999}],\n",
       " 105: [{'label': 'positive', 'score': 0.9614191651344299}],\n",
       " 106: [{'label': 'positive', 'score': 0.982852041721344}],\n",
       " 107: [{'label': 'neutral', 'score': 0.47206997871398926}],\n",
       " 108: [{'label': 'positive', 'score': 0.9725244641304016}],\n",
       " 109: [{'label': 'positive', 'score': 0.9786442518234253}],\n",
       " 110: [{'label': 'positive', 'score': 0.9124206900596619}],\n",
       " 111: [{'label': 'negative', 'score': 0.8516125082969666}],\n",
       " 112: [{'label': 'positive', 'score': 0.9565365314483643}],\n",
       " 113: [{'label': 'positive', 'score': 0.5560034513473511}],\n",
       " 114: [{'label': 'positive', 'score': 0.9878984093666077}],\n",
       " 115: [{'label': 'positive', 'score': 0.9012227058410645}],\n",
       " 116: [{'label': 'positive', 'score': 0.9815002679824829}],\n",
       " 117: [{'label': 'positive', 'score': 0.9416487216949463}],\n",
       " 118: [{'label': 'positive', 'score': 0.9726487398147583}],\n",
       " 119: [{'label': 'neutral', 'score': 0.47830212116241455}],\n",
       " 120: [{'label': 'positive', 'score': 0.6903905868530273}],\n",
       " 121: [{'label': 'positive', 'score': 0.9625206589698792}],\n",
       " 122: [{'label': 'positive', 'score': 0.44052058458328247}],\n",
       " 123: [{'label': 'neutral', 'score': 0.5919126868247986}],\n",
       " 124: [{'label': 'neutral', 'score': 0.4761591851711273}],\n",
       " 125: [{'label': 'positive', 'score': 0.9329540729522705}],\n",
       " 126: [{'label': 'positive', 'score': 0.5965356230735779}],\n",
       " 127: [{'label': 'positive', 'score': 0.9728078842163086}],\n",
       " 128: [{'label': 'positive', 'score': 0.8724582195281982}],\n",
       " 129: [{'label': 'positive', 'score': 0.9640069007873535}],\n",
       " 130: [{'label': 'negative', 'score': 0.871242344379425}],\n",
       " 131: [{'label': 'positive', 'score': 0.9669926166534424}],\n",
       " 132: [{'label': 'negative', 'score': 0.750166118144989}],\n",
       " 133: [{'label': 'positive', 'score': 0.8964371681213379}],\n",
       " 134: [{'label': 'positive', 'score': 0.9344392418861389}],\n",
       " 135: [{'label': 'positive', 'score': 0.9644262790679932}],\n",
       " 136: [{'label': 'positive', 'score': 0.857701301574707}],\n",
       " 137: [{'label': 'positive', 'score': 0.9744222164154053}],\n",
       " 138: [{'label': 'positive', 'score': 0.9262607097625732}],\n",
       " 139: [{'label': 'positive', 'score': 0.8653566241264343}],\n",
       " 140: [{'label': 'positive', 'score': 0.5422396659851074}],\n",
       " 141: [{'label': 'positive', 'score': 0.494821161031723}],\n",
       " 142: [{'label': 'positive', 'score': 0.9048895239830017}],\n",
       " 143: [{'label': 'positive', 'score': 0.9849427938461304}],\n",
       " 144: [{'label': 'positive', 'score': 0.9381338357925415}],\n",
       " 145: [{'label': 'negative', 'score': 0.5099208950996399}],\n",
       " 146: [{'label': 'positive', 'score': 0.9718369841575623}],\n",
       " 147: [{'label': 'negative', 'score': 0.6371831297874451}],\n",
       " 148: [{'label': 'positive', 'score': 0.841763436794281}],\n",
       " 149: [{'label': 'neutral', 'score': 0.36686649918556213}],\n",
       " 150: [{'label': 'positive', 'score': 0.9869252443313599}],\n",
       " 151: [{'label': 'positive', 'score': 0.9857902526855469}],\n",
       " 152: [{'label': 'positive', 'score': 0.9376519918441772}],\n",
       " 153: [{'label': 'positive', 'score': 0.9305160641670227}],\n",
       " 154: [{'label': 'negative', 'score': 0.7880972623825073}],\n",
       " 155: [{'label': 'positive', 'score': 0.9803025722503662}],\n",
       " 156: [{'label': 'positive', 'score': 0.9444977641105652}],\n",
       " 157: [{'label': 'positive', 'score': 0.9441800117492676}],\n",
       " 158: [{'label': 'positive', 'score': 0.9745138883590698}],\n",
       " 159: [{'label': 'positive', 'score': 0.8057864904403687}],\n",
       " 160: [{'label': 'neutral', 'score': 0.41982683539390564}],\n",
       " 161: [{'label': 'positive', 'score': 0.9861422181129456}],\n",
       " 162: [{'label': 'negative', 'score': 0.8702589869499207}],\n",
       " 163: [{'label': 'positive', 'score': 0.6449497938156128}],\n",
       " 164: [{'label': 'positive', 'score': 0.9554542303085327}],\n",
       " 165: [{'label': 'negative', 'score': 0.5108827948570251}],\n",
       " 166: [{'label': 'positive', 'score': 0.950416088104248}],\n",
       " 167: [{'label': 'positive', 'score': 0.9788841009140015}],\n",
       " 168: [{'label': 'negative', 'score': 0.9282985329627991}],\n",
       " 169: [{'label': 'negative', 'score': 0.9111446142196655}],\n",
       " 170: [{'label': 'negative', 'score': 0.6934472918510437}],\n",
       " 171: [{'label': 'positive', 'score': 0.9128496646881104}],\n",
       " 172: [{'label': 'positive', 'score': 0.9618122577667236}],\n",
       " 173: [{'label': 'positive', 'score': 0.9767271280288696}],\n",
       " 174: [{'label': 'positive', 'score': 0.9683102369308472}],\n",
       " 175: [{'label': 'positive', 'score': 0.6334994435310364}],\n",
       " 176: [{'label': 'positive', 'score': 0.9767587184906006}],\n",
       " 177: [{'label': 'positive', 'score': 0.9685060977935791}],\n",
       " 178: [{'label': 'positive', 'score': 0.9045599102973938}],\n",
       " 179: [{'label': 'positive', 'score': 0.6705732345581055}],\n",
       " 180: [{'label': 'positive', 'score': 0.9297730922698975}],\n",
       " 181: [{'label': 'neutral', 'score': 0.4672738313674927}],\n",
       " 182: [{'label': 'positive', 'score': 0.9863141775131226}],\n",
       " 183: [{'label': 'positive', 'score': 0.5456661581993103}],\n",
       " 184: [{'label': 'positive', 'score': 0.9656752943992615}],\n",
       " 185: [{'label': 'positive', 'score': 0.9852240085601807}],\n",
       " 186: [{'label': 'neutral', 'score': 0.5308064818382263}],\n",
       " 188: [{'label': 'neutral', 'score': 0.4573296904563904}],\n",
       " 189: [{'label': 'positive', 'score': 0.9613834619522095}],\n",
       " 190: [{'label': 'positive', 'score': 0.8082329630851746}],\n",
       " 191: [{'label': 'positive', 'score': 0.969399094581604}],\n",
       " 192: [{'label': 'positive', 'score': 0.9776115417480469}],\n",
       " 193: [{'label': 'positive', 'score': 0.9531345963478088}],\n",
       " 194: [{'label': 'positive', 'score': 0.8917835354804993}],\n",
       " 195: [{'label': 'positive', 'score': 0.9269606471061707}],\n",
       " 196: [{'label': 'positive', 'score': 0.9456634521484375}],\n",
       " 197: [{'label': 'positive', 'score': 0.8695709109306335}],\n",
       " 198: [{'label': 'neutral', 'score': 0.47232988476753235}],\n",
       " 199: [{'label': 'positive', 'score': 0.9831609129905701}],\n",
       " 200: [{'label': 'positive', 'score': 0.9008956551551819}],\n",
       " 201: [{'label': 'negative', 'score': 0.777930498123169}],\n",
       " 202: [{'label': 'positive', 'score': 0.9583513140678406}],\n",
       " 203: [{'label': 'positive', 'score': 0.9313703775405884}],\n",
       " 204: [{'label': 'positive', 'score': 0.5737334489822388}],\n",
       " 205: [{'label': 'positive', 'score': 0.9774178862571716}],\n",
       " 206: [{'label': 'positive', 'score': 0.9845811724662781}],\n",
       " 207: [{'label': 'positive', 'score': 0.971684992313385}],\n",
       " 208: [{'label': 'positive', 'score': 0.84478759765625}],\n",
       " 209: [{'label': 'negative', 'score': 0.4660056233406067}],\n",
       " 210: [{'label': 'positive', 'score': 0.739563524723053}],\n",
       " 211: [{'label': 'positive', 'score': 0.9017348289489746}],\n",
       " 212: [{'label': 'neutral', 'score': 0.6691417098045349}],\n",
       " 213: [{'label': 'negative', 'score': 0.5822135210037231}],\n",
       " 214: [{'label': 'negative', 'score': 0.5762044787406921}],\n",
       " 215: [{'label': 'positive', 'score': 0.8767228722572327}],\n",
       " 216: [{'label': 'positive', 'score': 0.9768953323364258}],\n",
       " 217: [{'label': 'negative', 'score': 0.6758877038955688}],\n",
       " 218: [{'label': 'negative', 'score': 0.5537558197975159}],\n",
       " 219: [{'label': 'positive', 'score': 0.9265721440315247}],\n",
       " 220: [{'label': 'positive', 'score': 0.8224102854728699}],\n",
       " 221: [{'label': 'positive', 'score': 0.8845001459121704}],\n",
       " 222: [{'label': 'positive', 'score': 0.9081974029541016}],\n",
       " 223: [{'label': 'positive', 'score': 0.9644892811775208}],\n",
       " 224: [{'label': 'positive', 'score': 0.9860904216766357}],\n",
       " 225: [{'label': 'negative', 'score': 0.8523226380348206}],\n",
       " 226: [{'label': 'positive', 'score': 0.6834849119186401}],\n",
       " 227: [{'label': 'positive', 'score': 0.6764600872993469}],\n",
       " 228: [{'label': 'positive', 'score': 0.8663382530212402}],\n",
       " 229: [{'label': 'neutral', 'score': 0.6247608065605164}],\n",
       " 230: [{'label': 'negative', 'score': 0.9294213652610779}],\n",
       " 231: [{'label': 'positive', 'score': 0.9650020003318787}],\n",
       " 232: [{'label': 'positive', 'score': 0.9294493794441223}],\n",
       " 233: [{'label': 'positive', 'score': 0.9657126665115356}],\n",
       " 234: [{'label': 'negative', 'score': 0.94076007604599}],\n",
       " 235: [{'label': 'positive', 'score': 0.9833161234855652}],\n",
       " 236: [{'label': 'negative', 'score': 0.8135303854942322}],\n",
       " 237: [{'label': 'positive', 'score': 0.9656456112861633}],\n",
       " 238: [{'label': 'neutral', 'score': 0.6628875136375427}],\n",
       " 239: [{'label': 'positive', 'score': 0.9670646786689758}],\n",
       " 240: [{'label': 'positive', 'score': 0.9601005911827087}],\n",
       " 241: [{'label': 'positive', 'score': 0.970663845539093}],\n",
       " 242: [{'label': 'positive', 'score': 0.9783830046653748}],\n",
       " 243: [{'label': 'positive', 'score': 0.9716752171516418}],\n",
       " 244: [{'label': 'neutral', 'score': 0.7305341362953186}],\n",
       " 245: [{'label': 'positive', 'score': 0.9589744806289673}],\n",
       " 246: [{'label': 'neutral', 'score': 0.6274823546409607}],\n",
       " 247: [{'label': 'positive', 'score': 0.9490236639976501}],\n",
       " 248: [{'label': 'positive', 'score': 0.9071717262268066}],\n",
       " 249: [{'label': 'positive', 'score': 0.9488713145256042}],\n",
       " 250: [{'label': 'positive', 'score': 0.6059543490409851}],\n",
       " 251: [{'label': 'positive', 'score': 0.9837301969528198}],\n",
       " 252: [{'label': 'negative', 'score': 0.38485684990882874}],\n",
       " 253: [{'label': 'negative', 'score': 0.9384588599205017}],\n",
       " 254: [{'label': 'positive', 'score': 0.7415140271186829}],\n",
       " 255: [{'label': 'neutral', 'score': 0.4105600416660309}],\n",
       " 256: [{'label': 'negative', 'score': 0.47286349534988403}],\n",
       " 257: [{'label': 'positive', 'score': 0.9735704064369202}],\n",
       " 258: [{'label': 'negative', 'score': 0.9209445714950562}],\n",
       " 259: [{'label': 'positive', 'score': 0.6542274951934814}],\n",
       " 260: [{'label': 'positive', 'score': 0.9424599409103394}],\n",
       " 261: [{'label': 'positive', 'score': 0.9784140586853027}],\n",
       " 262: [{'label': 'positive', 'score': 0.9831048846244812}],\n",
       " 263: [{'label': 'positive', 'score': 0.9632366895675659}],\n",
       " 264: [{'label': 'neutral', 'score': 0.43800824880599976}],\n",
       " 265: [{'label': 'neutral', 'score': 0.6991634368896484}],\n",
       " 266: [{'label': 'positive', 'score': 0.9847574234008789}],\n",
       " 267: [{'label': 'positive', 'score': 0.9580140709877014}],\n",
       " 268: [{'label': 'negative', 'score': 0.7264112234115601}],\n",
       " 269: [{'label': 'neutral', 'score': 0.4280914068222046}],\n",
       " 270: [{'label': 'positive', 'score': 0.9369627833366394}],\n",
       " 271: [{'label': 'positive', 'score': 0.9063002467155457}],\n",
       " 272: [{'label': 'positive', 'score': 0.765164315700531}],\n",
       " 273: [{'label': 'negative', 'score': 0.637031614780426}],\n",
       " 274: [{'label': 'positive', 'score': 0.9782400727272034}],\n",
       " 275: [{'label': 'positive', 'score': 0.9685153961181641}],\n",
       " 276: [{'label': 'neutral', 'score': 0.38050130009651184}],\n",
       " 277: [{'label': 'positive', 'score': 0.987514078617096}],\n",
       " 278: [{'label': 'neutral', 'score': 0.48583394289016724}],\n",
       " 279: [{'label': 'positive', 'score': 0.9815803170204163}],\n",
       " 280: [{'label': 'positive', 'score': 0.5237922668457031}],\n",
       " 281: [{'label': 'positive', 'score': 0.9593673944473267}],\n",
       " 282: [{'label': 'positive', 'score': 0.9820318222045898}],\n",
       " 283: [{'label': 'negative', 'score': 0.788034975528717}],\n",
       " 284: [{'label': 'positive', 'score': 0.9497018456459045}],\n",
       " 285: [{'label': 'negative', 'score': 0.7717189192771912}],\n",
       " 286: [{'label': 'positive', 'score': 0.6849896311759949}],\n",
       " 287: [{'label': 'neutral', 'score': 0.4898553192615509}],\n",
       " 288: [{'label': 'positive', 'score': 0.49760013818740845}],\n",
       " 289: [{'label': 'neutral', 'score': 0.45331281423568726}],\n",
       " 290: [{'label': 'positive', 'score': 0.9808293581008911}],\n",
       " 291: [{'label': 'negative', 'score': 0.7128771543502808}],\n",
       " 292: [{'label': 'positive', 'score': 0.7837135195732117}],\n",
       " 293: [{'label': 'positive', 'score': 0.8803596496582031}],\n",
       " 294: [{'label': 'neutral', 'score': 0.3735187351703644}],\n",
       " 295: [{'label': 'neutral', 'score': 0.4924260675907135}],\n",
       " 296: [{'label': 'positive', 'score': 0.4479321539402008}],\n",
       " 297: [{'label': 'positive', 'score': 0.8853864669799805}],\n",
       " 298: [{'label': 'positive', 'score': 0.9139602780342102}],\n",
       " 299: [{'label': 'positive', 'score': 0.919648289680481}],\n",
       " 300: [{'label': 'positive', 'score': 0.907348096370697}],\n",
       " 301: [{'label': 'positive', 'score': 0.9705586433410645}],\n",
       " 302: [{'label': 'positive', 'score': 0.9258597493171692}],\n",
       " 303: [{'label': 'positive', 'score': 0.8774088025093079}],\n",
       " 304: [{'label': 'positive', 'score': 0.896529495716095}],\n",
       " 305: [{'label': 'positive', 'score': 0.953928530216217}],\n",
       " 306: [{'label': 'negative', 'score': 0.817665696144104}],\n",
       " 307: [{'label': 'positive', 'score': 0.8538498878479004}],\n",
       " 308: [{'label': 'positive', 'score': 0.980263888835907}],\n",
       " 309: [{'label': 'positive', 'score': 0.9827159643173218}],\n",
       " 310: [{'label': 'positive', 'score': 0.986420750617981}],\n",
       " 311: [{'label': 'positive', 'score': 0.9546979069709778}],\n",
       " 312: [{'label': 'negative', 'score': 0.8360637426376343}],\n",
       " 313: [{'label': 'negative', 'score': 0.7327088117599487}],\n",
       " 314: [{'label': 'positive', 'score': 0.9595142602920532}],\n",
       " 315: [{'label': 'positive', 'score': 0.8840651512145996}],\n",
       " 316: [{'label': 'positive', 'score': 0.9510301351547241}],\n",
       " 317: [{'label': 'positive', 'score': 0.971971869468689}],\n",
       " 318: [{'label': 'neutral', 'score': 0.5481683611869812}],\n",
       " 319: [{'label': 'positive', 'score': 0.9026409387588501}],\n",
       " 320: [{'label': 'positive', 'score': 0.9756367802619934}],\n",
       " 321: [{'label': 'positive', 'score': 0.9732800126075745}],\n",
       " 322: [{'label': 'positive', 'score': 0.9405787587165833}],\n",
       " 323: [{'label': 'positive', 'score': 0.9741920232772827}],\n",
       " 324: [{'label': 'positive', 'score': 0.7090587019920349}],\n",
       " 325: [{'label': 'positive', 'score': 0.6453197598457336}],\n",
       " 326: [{'label': 'positive', 'score': 0.9716385006904602}],\n",
       " 327: [{'label': 'positive', 'score': 0.5912015438079834}],\n",
       " 328: [{'label': 'positive', 'score': 0.9029638171195984}],\n",
       " 329: [{'label': 'positive', 'score': 0.7681415677070618}],\n",
       " 330: [{'label': 'positive', 'score': 0.677541971206665}],\n",
       " 331: [{'label': 'positive', 'score': 0.9512878060340881}],\n",
       " 332: [{'label': 'negative', 'score': 0.6668770909309387}],\n",
       " 333: [{'label': 'positive', 'score': 0.9865667223930359}],\n",
       " 334: [{'label': 'positive', 'score': 0.9746333956718445}],\n",
       " 335: [{'label': 'negative', 'score': 0.919220507144928}],\n",
       " 336: [{'label': 'negative', 'score': 0.8641188144683838}],\n",
       " 337: [{'label': 'positive', 'score': 0.9717863202095032}],\n",
       " 338: [{'label': 'positive', 'score': 0.9820912480354309}],\n",
       " 339: [{'label': 'positive', 'score': 0.9833539724349976}],\n",
       " 340: [{'label': 'positive', 'score': 0.8833457231521606}],\n",
       " 341: [{'label': 'positive', 'score': 0.7128033638000488}],\n",
       " 342: [{'label': 'positive', 'score': 0.9747653007507324}],\n",
       " 343: [{'label': 'negative', 'score': 0.9407685399055481}],\n",
       " 344: [{'label': 'positive', 'score': 0.9160109758377075}],\n",
       " 345: [{'label': 'positive', 'score': 0.91522616147995}],\n",
       " 346: [{'label': 'positive', 'score': 0.6486886143684387}],\n",
       " 347: [{'label': 'positive', 'score': 0.9500755071640015}],\n",
       " 348: [{'label': 'positive', 'score': 0.973016619682312}],\n",
       " 349: [{'label': 'positive', 'score': 0.9824256896972656}],\n",
       " 350: [{'label': 'neutral', 'score': 0.4334658086299896}],\n",
       " 351: [{'label': 'positive', 'score': 0.9862940907478333}],\n",
       " 352: [{'label': 'positive', 'score': 0.9775776863098145}],\n",
       " 353: [{'label': 'positive', 'score': 0.9111768007278442}],\n",
       " 354: [{'label': 'positive', 'score': 0.5536434054374695}],\n",
       " 355: [{'label': 'positive', 'score': 0.9799878597259521}],\n",
       " 356: [{'label': 'positive', 'score': 0.966483473777771}],\n",
       " 357: [{'label': 'neutral', 'score': 0.4323001801967621}],\n",
       " 358: [{'label': 'positive', 'score': 0.9690831899642944}],\n",
       " 359: [{'label': 'positive', 'score': 0.8310723304748535}],\n",
       " 360: [{'label': 'positive', 'score': 0.9552792310714722}],\n",
       " 361: [{'label': 'positive', 'score': 0.7204910516738892}],\n",
       " 362: [{'label': 'negative', 'score': 0.9045104384422302}],\n",
       " 363: [{'label': 'positive', 'score': 0.954675555229187}],\n",
       " 364: [{'label': 'positive', 'score': 0.9786860942840576}],\n",
       " 365: [{'label': 'positive', 'score': 0.9863148927688599}],\n",
       " 366: [{'label': 'positive', 'score': 0.9648154377937317}],\n",
       " 367: [{'label': 'positive', 'score': 0.9314583539962769}],\n",
       " 368: [{'label': 'positive', 'score': 0.7996999621391296}],\n",
       " 369: [{'label': 'positive', 'score': 0.3732427656650543}],\n",
       " 370: [{'label': 'positive', 'score': 0.9330294132232666}],\n",
       " 371: [{'label': 'positive', 'score': 0.8999031186103821}],\n",
       " 372: [{'label': 'positive', 'score': 0.974716067314148}],\n",
       " 373: [{'label': 'negative', 'score': 0.6220917105674744}],\n",
       " 374: [{'label': 'positive', 'score': 0.9859074354171753}],\n",
       " 375: [{'label': 'positive', 'score': 0.9821471571922302}],\n",
       " 376: [{'label': 'positive', 'score': 0.9836896061897278}],\n",
       " 377: [{'label': 'positive', 'score': 0.9166364073753357}],\n",
       " 378: [{'label': 'positive', 'score': 0.8341231346130371}],\n",
       " 379: [{'label': 'positive', 'score': 0.9702076315879822}],\n",
       " 380: [{'label': 'positive', 'score': 0.979522705078125}],\n",
       " 381: [{'label': 'negative', 'score': 0.784873366355896}],\n",
       " 382: [{'label': 'negative', 'score': 0.9572892785072327}],\n",
       " 383: [{'label': 'positive', 'score': 0.9639927744865417}],\n",
       " 384: [{'label': 'positive', 'score': 0.8874242901802063}],\n",
       " 385: [{'label': 'positive', 'score': 0.9669351577758789}],\n",
       " 386: [{'label': 'positive', 'score': 0.9239517450332642}],\n",
       " 387: [{'label': 'positive', 'score': 0.8751482963562012}],\n",
       " 388: [{'label': 'neutral', 'score': 0.6155763268470764}],\n",
       " 389: [{'label': 'positive', 'score': 0.942951500415802}],\n",
       " 390: [{'label': 'positive', 'score': 0.9546338319778442}],\n",
       " 391: [{'label': 'negative', 'score': 0.8576478958129883}],\n",
       " 392: [{'label': 'positive', 'score': 0.9828163981437683}],\n",
       " 393: [{'label': 'positive', 'score': 0.98093581199646}],\n",
       " 394: [{'label': 'negative', 'score': 0.8063376545906067}],\n",
       " 395: [{'label': 'positive', 'score': 0.9607055187225342}],\n",
       " 396: [{'label': 'positive', 'score': 0.9845392107963562}],\n",
       " 397: [{'label': 'positive', 'score': 0.9777001738548279}],\n",
       " 398: [{'label': 'positive', 'score': 0.9148202538490295}],\n",
       " 399: [{'label': 'positive', 'score': 0.9404920935630798}],\n",
       " 400: [{'label': 'positive', 'score': 0.9733102917671204}],\n",
       " 401: [{'label': 'negative', 'score': 0.8165977597236633}],\n",
       " 402: [{'label': 'negative', 'score': 0.9266230463981628}],\n",
       " 403: [{'label': 'negative', 'score': 0.9338282346725464}],\n",
       " 404: [{'label': 'negative', 'score': 0.9270675778388977}],\n",
       " 405: [{'label': 'positive', 'score': 0.8625540137290955}],\n",
       " 406: [{'label': 'positive', 'score': 0.9826998710632324}],\n",
       " 407: [{'label': 'positive', 'score': 0.9534996747970581}],\n",
       " 408: [{'label': 'positive', 'score': 0.9181439280509949}],\n",
       " 409: [{'label': 'positive', 'score': 0.9858657121658325}],\n",
       " 410: [{'label': 'positive', 'score': 0.9289759397506714}],\n",
       " 411: [{'label': 'positive', 'score': 0.9351747035980225}],\n",
       " 412: [{'label': 'positive', 'score': 0.9098585247993469}],\n",
       " 413: [{'label': 'positive', 'score': 0.8976663947105408}],\n",
       " 414: [{'label': 'positive', 'score': 0.9560508131980896}],\n",
       " 415: [{'label': 'positive', 'score': 0.9729964137077332}],\n",
       " 416: [{'label': 'positive', 'score': 0.9766096472740173}],\n",
       " 417: [{'label': 'neutral', 'score': 0.41750290989875793}],\n",
       " 418: [{'label': 'negative', 'score': 0.9419610500335693}],\n",
       " 419: [{'label': 'positive', 'score': 0.8298965692520142}],\n",
       " 420: [{'label': 'positive', 'score': 0.9459699392318726}],\n",
       " 421: [{'label': 'positive', 'score': 0.881057620048523}],\n",
       " 422: [{'label': 'neutral', 'score': 0.6095004081726074}],\n",
       " 423: [{'label': 'positive', 'score': 0.3481999635696411}],\n",
       " 424: [{'label': 'positive', 'score': 0.9641997218132019}],\n",
       " 425: [{'label': 'positive', 'score': 0.9178574681282043}],\n",
       " 426: [{'label': 'positive', 'score': 0.8685067296028137}],\n",
       " 427: [{'label': 'neutral', 'score': 0.41638562083244324}],\n",
       " 428: [{'label': 'positive', 'score': 0.9741317629814148}],\n",
       " 429: [{'label': 'positive', 'score': 0.9075432419776917}],\n",
       " 430: [{'label': 'positive', 'score': 0.9849125146865845}],\n",
       " 431: [{'label': 'positive', 'score': 0.9266431927680969}],\n",
       " 432: [{'label': 'positive', 'score': 0.8552126288414001}],\n",
       " 433: [{'label': 'positive', 'score': 0.9478033185005188}],\n",
       " 434: [{'label': 'positive', 'score': 0.8954890370368958}],\n",
       " 435: [{'label': 'positive', 'score': 0.9153628945350647}],\n",
       " 436: [{'label': 'positive', 'score': 0.9592671394348145}],\n",
       " 437: [{'label': 'positive', 'score': 0.9222738146781921}],\n",
       " 438: [{'label': 'positive', 'score': 0.9781920313835144}],\n",
       " 439: [{'label': 'positive', 'score': 0.9618635177612305}],\n",
       " 440: [{'label': 'positive', 'score': 0.5084565281867981}],\n",
       " 441: [{'label': 'neutral', 'score': 0.45578470826148987}],\n",
       " 442: [{'label': 'positive', 'score': 0.9726832509040833}],\n",
       " 443: [{'label': 'positive', 'score': 0.9812182188034058}],\n",
       " 444: [{'label': 'positive', 'score': 0.4866061806678772}],\n",
       " 445: [{'label': 'positive', 'score': 0.9071618318557739}],\n",
       " 446: [{'label': 'negative', 'score': 0.6773131489753723}],\n",
       " 447: [{'label': 'positive', 'score': 0.9585325121879578}],\n",
       " 448: [{'label': 'positive', 'score': 0.9746032357215881}],\n",
       " 449: [{'label': 'positive', 'score': 0.957545816898346}],\n",
       " 450: [{'label': 'positive', 'score': 0.9512301683425903}],\n",
       " 451: [{'label': 'positive', 'score': 0.7277483940124512}],\n",
       " 452: [{'label': 'positive', 'score': 0.5959391593933105}],\n",
       " 453: [{'label': 'positive', 'score': 0.9904865622520447}],\n",
       " 454: [{'label': 'positive', 'score': 0.9888330698013306}],\n",
       " 455: [{'label': 'positive', 'score': 0.9733033776283264}],\n",
       " 456: [{'label': 'negative', 'score': 0.4652932286262512}],\n",
       " 457: [{'label': 'positive', 'score': 0.9684414863586426}],\n",
       " 458: [{'label': 'positive', 'score': 0.9871554374694824}],\n",
       " 459: [{'label': 'positive', 'score': 0.9515476226806641}],\n",
       " 460: [{'label': 'positive', 'score': 0.9565636515617371}],\n",
       " 461: [{'label': 'negative', 'score': 0.5699621438980103}],\n",
       " 462: [{'label': 'negative', 'score': 0.634541392326355}],\n",
       " 463: [{'label': 'positive', 'score': 0.4184747338294983}],\n",
       " 464: [{'label': 'positive', 'score': 0.7881189584732056}],\n",
       " 465: [{'label': 'positive', 'score': 0.9749104380607605}],\n",
       " 466: [{'label': 'positive', 'score': 0.9794042110443115}],\n",
       " 467: [{'label': 'positive', 'score': 0.9010465145111084}],\n",
       " 468: [{'label': 'positive', 'score': 0.7763009071350098}],\n",
       " 469: [{'label': 'positive', 'score': 0.9440256357192993}],\n",
       " 470: [{'label': 'positive', 'score': 0.9420982599258423}],\n",
       " 471: [{'label': 'positive', 'score': 0.876402735710144}],\n",
       " 472: [{'label': 'positive', 'score': 0.9054593443870544}],\n",
       " 473: [{'label': 'positive', 'score': 0.9462965130805969}],\n",
       " 474: [{'label': 'positive', 'score': 0.9589284062385559}],\n",
       " 475: [{'label': 'positive', 'score': 0.9883981347084045}],\n",
       " 476: [{'label': 'positive', 'score': 0.9393550753593445}],\n",
       " 477: [{'label': 'positive', 'score': 0.9797501564025879}],\n",
       " 478: [{'label': 'positive', 'score': 0.9819899797439575}],\n",
       " 479: [{'label': 'positive', 'score': 0.8318775296211243}],\n",
       " 480: [{'label': 'positive', 'score': 0.9726261496543884}],\n",
       " 481: [{'label': 'positive', 'score': 0.8916208744049072}],\n",
       " 482: [{'label': 'positive', 'score': 0.9830799102783203}],\n",
       " 483: [{'label': 'positive', 'score': 0.9806151986122131}],\n",
       " 484: [{'label': 'negative', 'score': 0.8926311135292053}],\n",
       " 485: [{'label': 'positive', 'score': 0.8098487854003906}],\n",
       " 486: [{'label': 'positive', 'score': 0.8992900252342224}],\n",
       " 487: [{'label': 'positive', 'score': 0.6009960770606995}],\n",
       " 488: [{'label': 'negative', 'score': 0.8967052102088928}],\n",
       " 489: [{'label': 'neutral', 'score': 0.488913357257843}],\n",
       " 490: [{'label': 'positive', 'score': 0.9089385271072388}],\n",
       " 491: [{'label': 'negative', 'score': 0.6195849776268005}],\n",
       " 492: [{'label': 'positive', 'score': 0.9726431965827942}],\n",
       " 493: [{'label': 'positive', 'score': 0.5915690064430237}],\n",
       " 494: [{'label': 'neutral', 'score': 0.399655818939209}],\n",
       " 495: [{'label': 'positive', 'score': 0.9703669548034668}],\n",
       " 496: [{'label': 'positive', 'score': 0.9841377139091492}],\n",
       " 497: [{'label': 'positive', 'score': 0.9690135717391968}],\n",
       " 498: [{'label': 'positive', 'score': 0.9099277257919312}],\n",
       " 499: [{'label': 'negative', 'score': 0.7963458299636841}],\n",
       " 500: [{'label': 'positive', 'score': 0.9638566374778748}]}"
      ]
     },
     "execution_count": 53,
     "metadata": {},
     "output_type": "execute_result"
    }
   ],
   "source": [
    "pipe_res"
   ]
  },
  {
   "cell_type": "code",
   "execution_count": null,
   "metadata": {},
   "outputs": [],
   "source": []
  }
 ],
 "metadata": {
  "kernelspec": {
   "display_name": "nlp",
   "language": "python",
   "name": "python3"
  },
  "language_info": {
   "codemirror_mode": {
    "name": "ipython",
    "version": 3
   },
   "file_extension": ".py",
   "mimetype": "text/x-python",
   "name": "python",
   "nbconvert_exporter": "python",
   "pygments_lexer": "ipython3",
   "version": "3.9.16"
  },
  "orig_nbformat": 4
 },
 "nbformat": 4,
 "nbformat_minor": 2
}
