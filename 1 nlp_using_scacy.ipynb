{
 "cells": [
  {
   "cell_type": "code",
   "execution_count": 1,
   "metadata": {},
   "outputs": [],
   "source": [
    "import spacy"
   ]
  },
  {
   "cell_type": "code",
   "execution_count": 3,
   "metadata": {},
   "outputs": [],
   "source": [
    "nlp = spacy.load('en_core_web_sm')\n",
    "doc = nlp('This is nlp with Spacy')"
   ]
  },
  {
   "cell_type": "code",
   "execution_count": 10,
   "metadata": {},
   "outputs": [],
   "source": [
    "from spacy.lang.en.stop_words import STOP_WORDS"
   ]
  },
  {
   "cell_type": "code",
   "execution_count": 11,
   "metadata": {},
   "outputs": [
    {
     "name": "stdout",
     "output_type": "stream",
     "text": [
      "{'amount', 'sometime', 'take', 'though', 'over', 'herein', 'make', 'well', 'whither', 'do', 'top', 'whoever', 'empty', 'among', 'into', 'could', 'up', 'too', 'what', 'otherwise', 'various', 'been', 'have', 'when', 'of', '‘m', \"'m\", 'mine', '‘re', 'sixty', 'thus', 'does', 'are', 'but', 'from', 'somewhere', 'somehow', 'seems', 'except', 'much', 'ten', 'none', 'go', 'perhaps', 'else', 'give', 're', 'while', 'nobody', 'ever', 'onto', 'before', 'here', 'will', 'can', 'please', 'once', 'put', 'for', 'name', 'formerly', \"'ll\", 'across', 'most', 'her', 'there', 'three', '‘ve', 'therein', 'since', 'hereafter', 'him', 'whereby', 'done', '’re', \"'ve\", 'anyone', 'again', 'forty', 'some', 'and', 'without', 'never', 'we', 'becoming', 'yours', 'very', 'all', 'seemed', '’d', 'these', '‘s', 'himself', 'did', 'indeed', 'am', \"'s\", 'our', 'front', '’s', 'amongst', 'hereupon', 'at', 'beyond', 'latter', 'may', 'thereafter', 'elsewhere', 'whereafter', 'yet', 'then', 'back', 'your', 'however', \"'d\", 'so', 'twenty', 'such', 'below', 'seeming', 'unless', 'two', 'anywhere', 'both', 'seem', 'six', 'next', 'until', 'eleven', 'due', 'several', 'nor', 'moreover', 'themselves', 'few', 'by', 'anyhow', 'ourselves', 'mostly', 'something', 'meanwhile', 'one', 'the', 'anything', 'full', 'rather', 'their', 'whatever', 'twelve', 'whole', 'as', 'why', 'per', 'or', 'just', 'itself', 'n‘t', 'still', 'my', 'after', 'this', 'last', 'hers', 'quite', 'although', 'a', 'beside', '‘d', '‘ll', 'n’t', 'had', 'less', 'upon', 'were', 'that', 'almost', 'whose', 'serious', '’ve', 'third', 'me', 'should', 'hundred', 'to', 'not', 'either', 'whence', 'might', 'thence', 'about', 'its', 'five', 'them', 'thereupon', 'first', 'noone', 'wherever', 'bottom', 'how', 'yourself', 'us', 'than', 'really', 'toward', 'hereby', 'also', 'on', 'side', 'least', 'made', 'someone', 'via', 'whereas', 'call', 'anyway', 'others', 'already', 'whom', '’m', 'became', 'same', 'hence', 'namely', 'above', 'cannot', \"n't\", 'now', 'more', 'always', 'in', 'it', 'between', 'part', 'where', 'would', 'say', 'any', 'was', 'using', 'who', 'regarding', 'yourselves', 'through', 'be', 'ours', 'latterly', 'doing', 'many', 'even', 'each', 'an', 'besides', 'former', 'everywhere', 'four', 'whereupon', 'used', 'along', 'herself', 'myself', 'ca', 'which', '’ll', 'out', \"'re\", 'keep', 'those', 'behind', 'neither', 'alone', 'show', 'beforehand', 'off', 'wherein', 'further', 'often', 'with', 'get', 'you', 'has', 'during', 'no', 'whether', 'must', 'every', 'fifteen', 'other', 'become', 'towards', 'enough', 'he', 'she', 'becomes', 'thru', 'another', 'throughout', 'his', 'under', 'eight', 'nevertheless', 'sometimes', 'i', 'nothing', 'nine', 'because', 'within', 'being', 'see', 'only', 'if', 'fifty', 'nowhere', 'they', 'everything', 'afterwards', 'is', 'against', 'down', 'around', 'thereby', 'whenever', 'own', 'everyone', 'therefore', 'move', 'together'}\n"
     ]
    }
   ],
   "source": [
    "print(STOP_WORDS)"
   ]
  },
  {
   "cell_type": "code",
   "execution_count": 14,
   "metadata": {},
   "outputs": [],
   "source": [
    "doc = nlp(\"Real-time training during global emergencies is critical for effective preparedness and response.\")"
   ]
  },
  {
   "cell_type": "code",
   "execution_count": 16,
   "metadata": {},
   "outputs": [],
   "source": [
    "sentence = []\n",
    "\n",
    "for w in doc:\n",
    "    if w.text != 'n' and not w.is_stop and not w.is_punct and not w.like_num:\n",
    "        sentence.append(w.lemma_)"
   ]
  },
  {
   "cell_type": "code",
   "execution_count": 17,
   "metadata": {},
   "outputs": [
    {
     "data": {
      "text/plain": [
       "['real',\n",
       " 'time',\n",
       " 'training',\n",
       " 'global',\n",
       " 'emergency',\n",
       " 'critical',\n",
       " 'effective',\n",
       " 'preparedness',\n",
       " 'response']"
      ]
     },
     "execution_count": 17,
     "metadata": {},
     "output_type": "execute_result"
    }
   ],
   "source": [
    "sentence"
   ]
  },
  {
   "cell_type": "code",
   "execution_count": 20,
   "metadata": {},
   "outputs": [
    {
     "name": "stdout",
     "output_type": "stream",
     "text": [
      "Real ADJ JJ\n",
      "- PUNCT HYPH\n",
      "time NOUN NN\n",
      "training NOUN NN\n",
      "during ADP IN\n",
      "global ADJ JJ\n",
      "emergencies NOUN NNS\n",
      "is AUX VBZ\n",
      "critical ADJ JJ\n",
      "for ADP IN\n",
      "effective ADJ JJ\n",
      "preparedness NOUN NN\n",
      "and CCONJ CC\n",
      "response NOUN NN\n",
      ". PUNCT .\n"
     ]
    }
   ],
   "source": [
    "for token in doc:\n",
    "    print(token, token.pos_, token.tag_)"
   ]
  },
  {
   "cell_type": "code",
   "execution_count": 25,
   "metadata": {},
   "outputs": [
    {
     "name": "stdout",
     "output_type": "stream",
     "text": [
      "India GPE\n",
      "has \n",
      "Narendra PERSON\n",
      "Modi PERSON\n",
      "as \n",
      "Prime \n",
      "Minister \n",
      ", \n",
      "but \n",
      "Kartik ORG\n",
      "as \n",
      "a \n",
      "Gang PERSON\n",
      "Leader \n"
     ]
    }
   ],
   "source": [
    "doc1 = nlp('India has Narendra Modi as Prime Minister, but Kartik as a Gang Leader')\n",
    "for token in doc1:\n",
    "    print(token, token.ent_type_)"
   ]
  },
  {
   "cell_type": "code",
   "execution_count": null,
   "metadata": {},
   "outputs": [],
   "source": []
  }
 ],
 "metadata": {
  "kernelspec": {
   "display_name": "nlp",
   "language": "python",
   "name": "python3"
  },
  "language_info": {
   "codemirror_mode": {
    "name": "ipython",
    "version": 3
   },
   "file_extension": ".py",
   "mimetype": "text/x-python",
   "name": "python",
   "nbconvert_exporter": "python",
   "pygments_lexer": "ipython3",
   "version": "3.9.16"
  },
  "orig_nbformat": 4
 },
 "nbformat": 4,
 "nbformat_minor": 2
}
